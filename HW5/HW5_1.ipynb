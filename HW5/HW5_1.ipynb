{
 "cells": [
  {
   "cell_type": "markdown",
   "metadata": {},
   "source": [
    "read data"
   ]
  },
  {
   "cell_type": "code",
   "execution_count": 1,
   "metadata": {},
   "outputs": [],
   "source": [
    "using LinearAlgebra"
   ]
  },
  {
   "cell_type": "code",
   "execution_count": 2,
   "metadata": {},
   "outputs": [],
   "source": [
    "function data_reader(A=nothing, y=nothing)\n",
    "    m = 1000; n = 210;\n",
    "    if A == nothing\n",
    "        A = ones(m, n)*1.0; y = ones(m, 1)*1.0;\n",
    "        f = open(\".//data_problem1//data.txt\", \"r\"); i = 1;\n",
    "        lines = readlines(f) \n",
    "        for line in lines\n",
    "            tmp = split(line);\n",
    "            tmp2 = parse.(Float64, tmp); \n",
    "            A[i, :] = tmp2; i = i + 1;\n",
    "        end\n",
    "        close(f)\n",
    "        \n",
    "        f = open(\".//data_problem1//label.txt\", \"r\"); i = 1;\n",
    "        lines = readlines(f)\n",
    "        for line in lines\n",
    "            tmp = split(line);\n",
    "            tmp2 = parse.(Float64, tmp); \n",
    "            y[i, :] = tmp2; i = i + 1;\n",
    "        end\n",
    "        close(f)\n",
    "    end\n",
    "    return A, y\n",
    "end\n",
    "A, y = data_reader();"
   ]
  },
  {
   "cell_type": "markdown",
   "metadata": {},
   "source": [
    "Q1 L1 regularization"
   ]
  },
  {
   "cell_type": "code",
   "execution_count": 3,
   "metadata": {},
   "outputs": [
    {
     "data": {
      "text/plain": [
       "soft (generic function with 1 method)"
      ]
     },
     "execution_count": 3,
     "metadata": {},
     "output_type": "execute_result"
    }
   ],
   "source": [
    "function soft(x, delta)\n",
    "    z = sign.(x) .* max.(abs.(x) .- delta, 0);\n",
    "    return z\n",
    "end"
   ]
  },
  {
   "cell_type": "code",
   "execution_count": 4,
   "metadata": {},
   "outputs": [
    {
     "name": "stdout",
     "output_type": "stream",
     "text": [
      "Converge\n"
     ]
    }
   ],
   "source": [
    "function MajorMin(A, y, norm_i=2)\n",
    "    m = 1000; n = 210; c = 1e5; x = rand(n, 1); lambda = 0.1; iteration = 1; iter_max = 1e5;\n",
    "    for i = 1 : iter_max\n",
    "        tmp = soft(1/c * A' *(y .- A*x).+x, lambda/c);\n",
    "        if norm(tmp - x, norm_i) < 1e-8\n",
    "            println(\"Converge\")\n",
    "            break\n",
    "        end\n",
    "        if i == iter_max\n",
    "            println(\"Not satisfy the converge condition.\")\n",
    "        end\n",
    "        x = tmp;\n",
    "    end\n",
    "    return x\n",
    "end\n",
    "x1 = MajorMin(A, y);"
   ]
  },
  {
   "cell_type": "code",
   "execution_count": 5,
   "metadata": {},
   "outputs": [],
   "source": [
    "f = open(\".//sol1.txt\", \"w\")\n",
    "for i = 1 : length(x1)\n",
    "    tmp = x1[i]\n",
    "    write(f, \"$tmp\\n\");\n",
    "end\n",
    "close(f)"
   ]
  },
  {
   "cell_type": "markdown",
   "metadata": {},
   "source": [
    "Q2 L2 regularization"
   ]
  },
  {
   "cell_type": "code",
   "execution_count": 56,
   "metadata": {},
   "outputs": [
    {
     "name": "stdout",
     "output_type": "stream",
     "text": [
      "Converge\n"
     ]
    }
   ],
   "source": [
    "function SG(A, y)\n",
    "    m = 1000; n = 210; gamma = 1e-5; x = rand(n, 1); lambda = 0.1; iteration = 1; iter_max = 1e5;\n",
    "    for i = 1 : iter_max\n",
    "        delta = 2 * A'* (A * x - y) .+ 2 * lambda * x; # or delta = -(2 * (y' - (A * x)') * A)' - 2 * x;\n",
    "        x = x - (gamma * delta); tmp = norm(delta, 2);\n",
    "        if tmp <= 1e-6\n",
    "            println(\"Converge\")\n",
    "            break\n",
    "        end\n",
    "        if i == iter_max\n",
    "            println(\"Not satisfy the converge condition.\")\n",
    "        end\n",
    "    end\n",
    "    return x\n",
    "end\n",
    "x2 = SG(A, y);"
   ]
  },
  {
   "cell_type": "code",
   "execution_count": 57,
   "metadata": {},
   "outputs": [],
   "source": [
    "f = open(\".//sol2.txt\", \"w\")\n",
    "for i = 1 : length(x2)\n",
    "    tmp = x2[i]\n",
    "    write(f, \"$tmp\\n\");\n",
    "end\n",
    "close(f)"
   ]
  },
  {
   "cell_type": "markdown",
   "metadata": {},
   "source": [
    "Q3 Comparison"
   ]
  },
  {
   "cell_type": "code",
   "execution_count": 58,
   "metadata": {},
   "outputs": [
    {
     "name": "stdout",
     "output_type": "stream",
     "text": [
      "L0_1: 210.0\n",
      "L0_2: 210.0\n"
     ]
    }
   ],
   "source": [
    "L0_1 = norm(x1, 0);\n",
    "L0_2 = norm(x2, 0);\n",
    "println(\"L0_1: \", L0_1, \"\\nL0_2: \", L0_2)"
   ]
  },
  {
   "cell_type": "code",
   "execution_count": 59,
   "metadata": {},
   "outputs": [
    {
     "name": "stdout",
     "output_type": "stream",
     "text": [
      "Loss_1: 2945.2600724980653\n",
      "Loss_2: 2945.5282348047917\n"
     ]
    }
   ],
   "source": [
    "Loss_1 = norm(A*x1 - y, 2)^2;\n",
    "Loss_2 = norm(A*x2 - y, 2)^2;\n",
    "println(\"Loss_1: \", Loss_1, \"\\nLoss_2: \", Loss_2)"
   ]
  },
  {
   "cell_type": "code",
   "execution_count": null,
   "metadata": {},
   "outputs": [],
   "source": []
  },
  {
   "cell_type": "code",
   "execution_count": null,
   "metadata": {},
   "outputs": [],
   "source": []
  }
 ],
 "metadata": {
  "kernelspec": {
   "display_name": "Julia 1.5.1",
   "language": "julia",
   "name": "julia-1.5"
  },
  "language_info": {
   "file_extension": ".jl",
   "mimetype": "application/julia",
   "name": "julia",
   "version": "1.5.1"
  }
 },
 "nbformat": 4,
 "nbformat_minor": 4
}
